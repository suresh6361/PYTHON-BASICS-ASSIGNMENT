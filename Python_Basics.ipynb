{
  "nbformat": 4,
  "nbformat_minor": 0,
  "metadata": {
    "colab": {
      "provenance": []
    },
    "kernelspec": {
      "name": "python3",
      "display_name": "Python 3"
    },
    "language_info": {
      "name": "python"
    }
  },
  "cells": [
    {
      "cell_type": "markdown",
      "source": [
        "#Python Basics"
      ],
      "metadata": {
        "id": "KrZyy3GCFS1j"
      }
    },
    {
      "cell_type": "code",
      "execution_count": null,
      "metadata": {
        "id": "nqRW5ViaE9Ce"
      },
      "outputs": [],
      "source": [
        "1. What is python, and Why is it popular?\n",
        "   -> Python is a programming language that is easy to understand and write, making it a popular choice among developers and programmers.It has\n",
        "      introduce by Guido van Rossum (1980). It is compatible with various programming paradigms, such as procedural, object-oriented, and\n",
        "      functional programming. Python has a large and active community of developers, an extensive standard library and third-party packages for\n",
        "      various domains.\n",
        "\n",
        "2. What is an interpreter in python?\n",
        "   -> A Python interpreter is a computer program that reads and executes Python code line by line. It is a computer program that converts each high-level\n",
        "      program statement into machine code. An interpreter translates the command that you write out into code that the computer can understand.\n",
        "\n",
        "3. What are pre-defined keywords in pyhton?\n",
        "   -> This are pre-defined words that hold a special meaning and have specific purpose in python programming.You can't use a keyword anywhere else.\n",
        "      Python Identifiers are the different values that a programmer can use to define various variables, integers, functions, and classes.\n",
        "       To get Python keywords list:\n",
        "       Enter help('keywords')\n",
        "\n",
        "4. Can keywords be used as variable names?\n",
        "   -> No, keywords cannot be used as variable names because Keywords define the structure and syntax rules of a programming language and are used\n",
        "      by the interpreter to recognize the program's structure.\n",
        "\n",
        "5. What is mutability in Python?\n",
        "   -> Mutability means objects/container whose state or vale can be changed after they are created are called mutability.\n",
        "\n",
        "6. Why are lists mutable, but tuples are immutable?\n",
        "   -> Because their contents cannot be changed after creation, while lists are mutable and can be modified.tuples are more memory-efficient\n",
        "      compared to lists. Tuples can't be changed after they're created, but lists can be modified.\n",
        "\n",
        "7. What is the difference between \"==\" and \"is\" operators in python?\n",
        "   -> The main difference between the \"==\" and \"is\" operators in Python is that \"==\" compares the equality of objects, while \"is\" compares the identity\n",
        "      of objects.\n",
        "\n",
        "8. What are logical operators in Python?\n",
        "   -> Logical operators in Python are keywords that evaluate conditions in a program to return a Boolean value. They are used in conditional statements\n",
        "      and expressions to create complex decision-making processes.\n",
        "         Types of logical operators:\n",
        "             * AND\n",
        "             * OR\n",
        "             * NOT\n",
        "\n",
        "9. What is type casting in Python?\n",
        "   -> We also called as Type Conversion and the process of changing the data type of a value/object is called Type Casting.Type casting is important\n",
        "      because it allows for flexible operations and data manipulation within a program.\n",
        "\n",
        "10. What is the difference implicit and explicit Type casting?\n",
        "    -> Implicit Type casting:\n",
        "              when a programming language automatically converts one data type to another.\n",
        "       Explicit Type casting:\n",
        "              when a programmer manually converts a value from one data type to another.\n",
        "\n",
        "11. What is the purpose of conditional statements in Python?\n",
        "    -> The purpose of conditional statements in Python is to control the flow of a program by making decisions based on certain conditions.\n",
        "       Conditional statements can help make code more efficient and easier to read.\n",
        "\n",
        "12. How does the elif statement work?\n",
        "    -> In Python, elif is short for \"else if\" and is used when the first if statement isn't true, but you want to check for another condition.\n",
        "       if statements pair up with elif and else statements to perform a series of checks.\n",
        "\n",
        "13. What is the difference between for and while loops?\n",
        "    -> For loop:\n",
        "          a for loop is used when you know how many times to repeat a block of code.\n",
        "    -> While loop:\n",
        "          It repeatedly executed a block of code until a condition is met.\n",
        "\n",
        "14. Describe a scenario where a while loop is more suitable than a for loop?\n",
        "    -> In contrast to a 'for' loop, which is generally used when the number of iterations is known beforehand, a 'while' loop is\n",
        "       ideal for situations where the number of iterations is not predetermined and depends on some dynamic condition."
      ]
    },
    {
      "cell_type": "markdown",
      "source": [
        "             #PRACTICAL QUESTIONS"
      ],
      "metadata": {
        "id": "AGxthmzeHCma"
      }
    },
    {
      "cell_type": "code",
      "source": [
        "#1. Write a python program to print \"HELLO, WORLD!\"\n",
        "\n",
        "print(\"Hello, World!\")"
      ],
      "metadata": {
        "colab": {
          "base_uri": "https://localhost:8080/"
        },
        "id": "qXBA4oLQHEiv",
        "outputId": "6146e3aa-10a0-4829-ab60-af2e60e48c63"
      },
      "execution_count": null,
      "outputs": [
        {
          "output_type": "stream",
          "name": "stdout",
          "text": [
            "Hello, World!\n"
          ]
        }
      ]
    },
    {
      "cell_type": "code",
      "source": [
        "#2. Write a python program that displays your name and age?\n",
        "\n",
        "age = input(\"Enter age: \")\n",
        "name = input(\"Enter name: \")\n",
        "print(\"My name is\",name,\"and my age is\",age)"
      ],
      "metadata": {
        "colab": {
          "base_uri": "https://localhost:8080/"
        },
        "id": "bZsJw74nHNfM",
        "outputId": "0e7c8b54-26e3-4b8e-df75-79425386f702"
      },
      "execution_count": null,
      "outputs": [
        {
          "output_type": "stream",
          "name": "stdout",
          "text": [
            "Enter age: 23\n",
            "Enter name: suresh.m\n",
            "My name is suresh.m and my age is 23\n"
          ]
        }
      ]
    },
    {
      "cell_type": "code",
      "source": [
        "#3. Write code to print all the pre-defined keywords in python using the keyword library.\n",
        "\n",
        "help(\"keywords\")\n"
      ],
      "metadata": {
        "colab": {
          "base_uri": "https://localhost:8080/"
        },
        "id": "MqBBm5FEH-4s",
        "outputId": "cdda589f-b909-4aa3-d178-6109ed856aea"
      },
      "execution_count": null,
      "outputs": [
        {
          "output_type": "stream",
          "name": "stdout",
          "text": [
            "\n",
            "Here is a list of the Python keywords.  Enter any keyword to get more help.\n",
            "\n",
            "False               class               from                or\n",
            "None                continue            global              pass\n",
            "True                def                 if                  raise\n",
            "and                 del                 import              return\n",
            "as                  elif                in                  try\n",
            "assert              else                is                  while\n",
            "async               except              lambda              with\n",
            "await               finally             nonlocal            yield\n",
            "break               for                 not                 \n",
            "\n"
          ]
        }
      ]
    },
    {
      "cell_type": "code",
      "source": [
        "#4. Write a program that checks if a given word is a python keyword.\n",
        "\n",
        "import keyword\n",
        "s = 'for'\n",
        "\n",
        "# Check if it's a Python keyword\n",
        "if keyword.iskeyword(s):\n",
        "    print(f\"'{s}' is a Python keyword.\")\n",
        "else:\n",
        "    print(f\"'{s}' is not a Python keyword.\")"
      ],
      "metadata": {
        "colab": {
          "base_uri": "https://localhost:8080/"
        },
        "id": "xJO0FJzuKDgU",
        "outputId": "25b1657b-a44a-4bcb-eb3b-607f509ad97a"
      },
      "execution_count": null,
      "outputs": [
        {
          "output_type": "stream",
          "name": "stdout",
          "text": [
            "'for' is a Python keyword.\n"
          ]
        }
      ]
    },
    {
      "cell_type": "code",
      "source": [
        "#5. Create a list and tuple in python, and demonstrate how attempting to change an element works differently for each.\n",
        "\n",
        "a = [(1, 'apple'), (2, 'banana'), (3, 'cherry')]\n",
        "print(a)"
      ],
      "metadata": {
        "colab": {
          "base_uri": "https://localhost:8080/"
        },
        "id": "9Glq9fIJKcgW",
        "outputId": "4954430d-82ee-4de2-f785-b7524bf949b5"
      },
      "execution_count": null,
      "outputs": [
        {
          "output_type": "stream",
          "name": "stdout",
          "text": [
            "[(1, 'apple'), (2, 'banana'), (3, 'cherry')]\n"
          ]
        }
      ]
    },
    {
      "cell_type": "code",
      "source": [
        "#6. Write a function to demonstrate the behaviour of mutable and immutable arguments.\n",
        "    -> In Python mutable arguments can be changed within a function, while immutable arguments cannot. These differences affect how\n",
        "    variables behave and how memory is managed.\n",
        "\n",
        "       Mutable arguments\n",
        "         - Can be changed after creation\n",
        "         - Can be added to, removed from, or modified\n",
        "         - Store a copy of their contents when changed\n",
        "         - Are more memory-intensive than immutable arguments\n",
        "         - Can be used to create adaptable and effective adjustments\n",
        "         - Can be used in lists, dictionaries, and sets.\n",
        "\n",
        "       Immutable arguments\n",
        "         - Cannot be changed after creation\n",
        "         - Produce a new object when changed\n",
        "         - Are less prone to errors than mutable arguments\n",
        "         - Are regarded as safer\n",
        "         - Can be used to provide data integrity\n",
        "         - Can be used in strings, tuples, and numbers.\n",
        "\n",
        "\n",
        "\n"
      ],
      "metadata": {
        "id": "OsiShNkCLExl"
      },
      "execution_count": null,
      "outputs": []
    },
    {
      "cell_type": "code",
      "source": [
        "#7.Write a function to demonstrate the behaviour of mutable and immutable arguments.\n",
        "   -> -> In Python mutable arguments can be changed within a function, while immutable arguments cannot. These differences affect how\n",
        "    variables behave and how memory is managed.\n",
        "\n",
        "       Mutable arguments\n",
        "         - Can be changed after creation\n",
        "         - Can be added to, removed from, or modified\n",
        "         - Store a copy of their contents when changed\n",
        "         - Are more memory-intensive than immutable arguments\n",
        "         - Can be used to create adaptable and effective adjustments\n",
        "         - Can be used in lists, dictionaries, and sets.\n",
        "\n",
        "       Immutable arguments\n",
        "         - Cannot be changed after creation\n",
        "         - Produce a new object when changed\n",
        "         - Are less prone to errors than mutable arguments\n",
        "         - Are regarded as safer\n",
        "         - Can be used to provide data integrity\n",
        "         - Can be used in strings, tuples, and numbers.\n",
        "\n",
        "\n"
      ],
      "metadata": {
        "id": "Q1W6s2VOMVyl"
      },
      "execution_count": null,
      "outputs": []
    },
    {
      "cell_type": "code",
      "source": [
        "#8. Write a program to demonstrate the use of logical operators.\n",
        "\n",
        "a, b, c = True, False, True\n",
        "\n",
        "# AND: Both conditions must be True\n",
        "if a and c:\n",
        "    print(\"Both a and c are True (AND condition).\")\n",
        "\n",
        "# OR: At least one condition must be True\n",
        "if b or c:\n",
        "    print(\"Either b or c is True (OR condition).\")\n",
        "\n",
        "# NOT: Reverses the condition\n",
        "if not b:\n",
        "    print(\"b is False (NOT condition).\")\n"
      ],
      "metadata": {
        "colab": {
          "base_uri": "https://localhost:8080/"
        },
        "id": "IYU1dMStMxlz",
        "outputId": "eb682232-3355-4717-f579-2c509c224a12"
      },
      "execution_count": null,
      "outputs": [
        {
          "output_type": "stream",
          "name": "stdout",
          "text": [
            "Both a and c are True (AND condition).\n",
            "Either b or c is True (OR condition).\n",
            "b is False (NOT condition).\n"
          ]
        }
      ]
    },
    {
      "cell_type": "code",
      "source": [
        "#9. Write a python program to convert user input from string to integer, float and boolean types.\n",
        "\n",
        "#string to integer\n",
        "a = \"2\"\n",
        "type(a)\n",
        "\n",
        "a = int(a)\n",
        "type(a)\n",
        "\n",
        "\n",
        "#string to float\n",
        "b = \"5\"\n",
        "type(b)\n",
        "\n",
        "b = float(b)\n",
        "type(b)\n",
        "\n",
        "\n",
        "#string to boolean\n",
        "c = \"true\"\n",
        "type(c)\n",
        "\n",
        "c = bool(c)\n",
        "type(c)\n",
        "\n",
        "print(type(a),type(b),type(c))"
      ],
      "metadata": {
        "colab": {
          "base_uri": "https://localhost:8080/"
        },
        "id": "X1sbUbrnNFA2",
        "outputId": "cdb82adf-cd7a-42ad-9dca-4735f0a52254"
      },
      "execution_count": null,
      "outputs": [
        {
          "output_type": "stream",
          "name": "stdout",
          "text": [
            "<class 'int'> <class 'float'> <class 'bool'>\n"
          ]
        }
      ]
    },
    {
      "cell_type": "code",
      "source": [
        "#10. Write code to demonstrate type casting with list elements.\n",
        "\n",
        "#string elements to integer elements\n",
        "str_list = [\"1\", \"2\", \"3\", \"4\"]\n",
        "int_list = list(map(int, str_list))\n",
        "\n",
        "print(int_list)\n",
        "\n",
        "\n",
        "#integer elements to strings\n",
        "int_list = [1, 2, 3, 4]\n",
        "str_list = list(map(str, int_list))\n",
        "\n",
        "print(str_list)\n",
        "\n",
        "\n",
        "#Converting all elements to float\n",
        "mixed_list = [\"1\", 2, \"3.0\"]\n",
        "float_list = list(map(float, mixed_list))\n",
        "\n",
        "print(float_list)\n",
        "\n",
        "\n",
        "\n"
      ],
      "metadata": {
        "id": "TcSWBIlZT_1-",
        "colab": {
          "base_uri": "https://localhost:8080/"
        },
        "outputId": "3e134123-b130-4566-e604-341423d80f81"
      },
      "execution_count": null,
      "outputs": [
        {
          "output_type": "stream",
          "name": "stdout",
          "text": [
            "[1, 2, 3, 4]\n",
            "['1', '2', '3', '4']\n",
            "[1.0, 2.0, 3.0]\n"
          ]
        }
      ]
    },
    {
      "cell_type": "code",
      "source": [
        "#11. Write a program that checks if a number is positive, negative or zero.\n",
        "\n",
        "#positive\n",
        "num = float(input(\"Enter a number: \"))\n",
        "if num > 0:\n",
        "   print(\"Positive number\")\n",
        "elif num == 0:\n",
        "   print(\"Zero\")\n",
        "else:\n",
        "   print(\"Negative number\")\n",
        "\n",
        "\n",
        "#negative\n",
        "num = float(input(\"Enter a number: \"))\n",
        "if num > 0:\n",
        "   print(\"Positive number\")\n",
        "elif num == 0:\n",
        "   print(\"Zero\")\n",
        "else:\n",
        "   print(\"Negative number\")\n",
        "\n",
        "\n",
        "#zero\n",
        "num = float(input(\"Enter a number: \"))\n",
        "if num > 0:\n",
        "   print(\"Positive number\")\n",
        "elif num == 0:\n",
        "   print(\"Zero\")\n",
        "else:\n",
        "   print(\"Negative number\")\n",
        "\n"
      ],
      "metadata": {
        "colab": {
          "base_uri": "https://localhost:8080/"
        },
        "id": "siiHtHsNUHnH",
        "outputId": "18804751-d189-44c4-eac7-adf7f4401c02"
      },
      "execution_count": 1,
      "outputs": [
        {
          "output_type": "stream",
          "name": "stdout",
          "text": [
            "Enter a number: 23\n",
            "Positive number\n",
            "Enter a number: -50\n",
            "Negative number\n",
            "Enter a number: 0\n",
            "Zero\n"
          ]
        }
      ]
    },
    {
      "cell_type": "code",
      "source": [
        "#12. Write a for loop to print numbers from 1 to 10.\n",
        "\n",
        "\n",
        "for i in range(1, 11):\n",
        "    print(i)\n",
        "\n",
        "\n",
        "\n",
        "\n"
      ],
      "metadata": {
        "colab": {
          "base_uri": "https://localhost:8080/"
        },
        "id": "XD0so5igUTEc",
        "outputId": "05d15712-d26e-41a7-928e-e77c4585220b"
      },
      "execution_count": null,
      "outputs": [
        {
          "output_type": "stream",
          "name": "stdout",
          "text": [
            "1\n",
            "2\n",
            "3\n",
            "4\n",
            "5\n",
            "6\n",
            "7\n",
            "8\n",
            "9\n",
            "10\n"
          ]
        }
      ]
    },
    {
      "cell_type": "code",
      "source": [
        "#13. Write a python program to find the sum of all even numbers between 1 and 50.\n",
        "\n",
        "for i in range(50):\n",
        "  if i%2!=0:\n",
        "    continue\n",
        "  print(i)\n",
        "\n"
      ],
      "metadata": {
        "colab": {
          "base_uri": "https://localhost:8080/"
        },
        "id": "APpd0y3FUbJ3",
        "outputId": "c7b3cdcf-aaf6-4e71-82ca-d8edbbb40b90"
      },
      "execution_count": null,
      "outputs": [
        {
          "output_type": "stream",
          "name": "stdout",
          "text": [
            "0\n",
            "2\n",
            "4\n",
            "6\n",
            "8\n",
            "10\n",
            "12\n",
            "14\n",
            "16\n",
            "18\n",
            "20\n",
            "22\n",
            "24\n",
            "26\n",
            "28\n",
            "30\n",
            "32\n",
            "34\n",
            "36\n",
            "38\n",
            "40\n",
            "42\n",
            "44\n",
            "46\n",
            "48\n"
          ]
        }
      ]
    },
    {
      "cell_type": "code",
      "source": [
        "#14. Write a program to reverse a string using a while loop.\n",
        "\n",
        "s = \"suresh\"\n",
        "rev = s[::-1]\n",
        "print(rev)\n"
      ],
      "metadata": {
        "id": "r9j0uL5IUkjx",
        "colab": {
          "base_uri": "https://localhost:8080/"
        },
        "outputId": "39966782-4740-4e7b-cafd-cac9756821d2"
      },
      "execution_count": null,
      "outputs": [
        {
          "output_type": "stream",
          "name": "stdout",
          "text": [
            "hserus\n"
          ]
        }
      ]
    },
    {
      "cell_type": "code",
      "source": [
        "#15. write a python program to calculate the factorial of a number provided by the user using a while loop.\n",
        "\n",
        "n = int(input(\"Enter any number: \"))\n",
        "f = 1\n",
        "while n >= 1:\n",
        "    f *= n\n",
        "    n -= 1\n",
        "# print output\n",
        "print(\"Factorial is\", f)\n"
      ],
      "metadata": {
        "id": "SbcmOD-MUqw1",
        "colab": {
          "base_uri": "https://localhost:8080/"
        },
        "outputId": "a4dfcee7-a67e-4757-95cd-984f8b79a893"
      },
      "execution_count": null,
      "outputs": [
        {
          "output_type": "stream",
          "name": "stdout",
          "text": [
            "Enter any number: 5\n",
            "Factorial is 120\n"
          ]
        }
      ]
    }
  ]
}